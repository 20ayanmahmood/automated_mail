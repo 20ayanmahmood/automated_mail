{
 "cells": [
  {
   "cell_type": "code",
   "execution_count": 2,
   "metadata": {},
   "outputs": [],
   "source": [
    "from langchain_google_genai import ChatGoogleGenerativeAI\n",
    "from langchain.prompts import ChatPromptTemplate\n",
    "from langchain_core.runnables import RunnablePassthrough\n",
    "def model(context,question):\n",
    "    llm = ChatGoogleGenerativeAI(model=\"gemini-1.5-flash\")\n",
    "    system_prompt = (\n",
    "        \"\"\"User Question:{question}\n",
    "        Provide a Detailed Answer in around 100-200 words if possible.\n",
    "        You are an AI-assistant developed/created by Ayan Mahmoood for question-answering tasks. \n",
    "        Also greet the user if the user greets you.\n",
    "        Provide point-wise answer if possible.\n",
    "        Use the following pieces of retrieved context to answer. \n",
    "        the question. If you don't know the answer, say that you \n",
    "        don't know. And say you can schedule a interview/appointment with Ayan to discuss further and provide contact details **only if ** user either says schedule a interview , or the area is outof context.\n",
    "        \\n\\n\n",
    "        If the user says scedule a meeting or call then intent should be True else false\n",
    "        \\n\\n\n",
    "        pick the name from resume.\n",
    "        CONTEXT:\n",
    "        {context}\n",
    "        Output Format:\n",
    "        {{\n",
    "        Answer:\"\",\n",
    "        Intent:\"\",True / False\n",
    "        name:\"\"\n",
    "        }}\"\"\"\n",
    "    )\n",
    "    prompt = ChatPromptTemplate.from_template(system_prompt)\n",
    "    chain=({\"context\": RunnablePassthrough(), \"question\":RunnablePassthrough()} | prompt | llm )\n",
    "    response=chain.invoke({\"context\":context,\"question\":question})\n",
    "    return response"
   ]
  },
  {
   "cell_type": "code",
   "execution_count": null,
   "metadata": {},
   "outputs": [
    {
     "data": {
      "text/plain": [
       "AIMessage(content='```json\\n{\\n  \"Answer\": \"As an AI assistant created by Ayan Mahmood, I cannot directly schedule meetings.  To schedule a meeting, I need more information such as:\\\\n\\\\n* **Date and time proposals:**  Suggest a few dates and times that work for you.\\\\n* **Participants:** Who should attend the meeting?\\\\n* **Meeting purpose:** What is the agenda or topic of the meeting?\\\\n* **Meeting duration:** How long should the meeting last?\\\\n* **Location/Platform:**  Will this be an in-person meeting or a virtual meeting (e.g., Zoom, Google Meet)?\\\\n\\\\nOnce you provide this information, I can help you coordinate the scheduling with the relevant parties.\",\\n  \"Intent\": true,\\n  \"name\": \"\" \\n}\\n```\\n', additional_kwargs={}, response_metadata={'prompt_feedback': {'block_reason': 0, 'safety_ratings': []}, 'finish_reason': 'STOP', 'safety_ratings': []}, id='run-d8917692-5803-4a68-8f66-ef9e53189c37-0', usage_metadata={'input_tokens': 242, 'output_tokens': 173, 'total_tokens': 415, 'input_token_details': {'cache_read': 0}})"
      ]
     },
     "execution_count": 3,
     "metadata": {},
     "output_type": "execute_result"
    }
   ],
   "source": [
    "import os\n",
    "\n",
    "model(context=\"None\",question=\"Can you schedule a meeting\")"
   ]
  },
  {
   "cell_type": "code",
   "execution_count": 4,
   "metadata": {},
   "outputs": [],
   "source": [
    "email=input(\"Enter YOur Email ID: And Password:\")"
   ]
  },
  {
   "cell_type": "code",
   "execution_count": 19,
   "metadata": {},
   "outputs": [
    {
     "data": {
      "text/plain": [
       "['ayan20mahmood@gmail.com', ]"
      ]
     },
     "execution_count": 19,
     "metadata": {},
     "output_type": "execute_result"
    }
   ],
   "source": [
    "email.split()"
   ]
  },
  {
   "cell_type": "code",
   "execution_count": 20,
   "metadata": {},
   "outputs": [],
   "source": [
    "from email.mime.text import MIMEText\n"
   ]
  },
  {
   "cell_type": "code",
   "execution_count": 21,
   "metadata": {},
   "outputs": [],
   "source": [
    "llm = ChatGoogleGenerativeAI(model=\"gemini-1.5-flash\")"
   ]
  },
  {
   "cell_type": "code",
   "execution_count": null,
   "metadata": {},
   "outputs": [],
   "source": [
    "from langchain.prompts import PromptTemplate\n",
    "from langchain.chains import LLMChain\n",
    "def email_writer(question,email):\n",
    "    template=\"\"\"Based on the given question: {question}\n",
    "    Sender email:{email}\n",
    "    Fetch name from Email.\n",
    "    You are an HR assistant you task is to write an email to Ayan mahmood to attend the meeting,interview etc.\n",
    "    Write an email to schedule a meeting / job interview / freelancing opportunity with .\n",
    "\n",
    "\n",
    "    Output Format:\n",
    "    {{\n",
    "    subject:,\n",
    "    body:}} \"\"\"\n",
    "    prompt=PromptTemplate(input_variables=[\"question\",\"email\"],template=template)\n",
    "    chain=LLMChain(llm=llm,prompt=prompt)\n",
    "    response=chain.invoke({\"question\": question,\"email\":email})\n",
    "    return response\n",
    "\n"
   ]
  },
  {
   "cell_type": "code",
   "execution_count": null,
   "metadata": {},
   "outputs": [
    {
     "data": {
      "text/plain": [
       "{'question': 'scedule a meeting for GenAI developer at Apple Inc.',\n",
       " 'email': 'aman20singh@gmail.com',\n",
       " 'text': '```json\\n{\\n  \"subject\": \"Meeting Request: GenAI Developer Role at Apple Inc.\",\\n  \"body\": \"Dear Ayan Mahmood,\\\\n\\\\nMy name is Aman Singh, and I\\'m an HR assistant at Apple Inc.  I\\'m writing to you regarding a potential opportunity as a GenAI developer. \\\\n\\\\nWe are very impressed with your profile and would like to schedule a meeting to discuss this further.  Would you be available for a brief introductory call sometime next week? Please let me know what times work best for you.\\\\n\\\\nWe can discuss the specifics of the role (full-time, contract, or freelance), compensation, and next steps during our meeting.\\\\n\\\\nThank you for your time and consideration.\\\\n\\\\nSincerely,\\\\nAman Singh\\\\nHR Assistant\\\\nApple Inc.\"\\n}\\n```\\n'}"
      ]
     },
     "execution_count": 23,
     "metadata": {},
     "output_type": "execute_result"
    }
   ],
   "source": [
    "email_writer(\"scedule a meeting for GenAI developer at Apple Inc.\",\"aman20singh@gmail.com\")"
   ]
  },
  {
   "cell_type": "code",
   "execution_count": 24,
   "metadata": {},
   "outputs": [
    {
     "data": {
      "text/plain": [
       "['ayan20mahmood@gmail.com', 'ayan@2003']"
      ]
     },
     "execution_count": 24,
     "metadata": {},
     "output_type": "execute_result"
    }
   ],
   "source": [
    "email.split()"
   ]
  },
  {
   "cell_type": "code",
   "execution_count": 26,
   "metadata": {},
   "outputs": [
    {
     "data": {
      "text/plain": [
       "True"
      ]
     },
     "execution_count": 26,
     "metadata": {},
     "output_type": "execute_result"
    }
   ],
   "source": [
    "import webbrowser\n",
    "\n",
    "recipient = \"ayan20mahmood@gmail.com\"\n",
    "subject = \"Hello from Python\"\n",
    "body = \"This is a test email.\"\n",
    "\n",
    "# Format the Gmail URL\n",
    "gmail_url = f\"https://mail.google.com/mail/?view=cm&to={recipient}&su={subject}&body={body}\"\n",
    "\n",
    "# Open Gmail compose window\n",
    "webbrowser.open(gmail_url)"
   ]
  },
  {
   "cell_type": "code",
   "execution_count": null,
   "metadata": {},
   "outputs": [],
   "source": []
  }
 ],
 "metadata": {
  "kernelspec": {
   "display_name": "base",
   "language": "python",
   "name": "python3"
  },
  "language_info": {
   "codemirror_mode": {
    "name": "ipython",
    "version": 3
   },
   "file_extension": ".py",
   "mimetype": "text/x-python",
   "name": "python",
   "nbconvert_exporter": "python",
   "pygments_lexer": "ipython3",
   "version": "3.12.4"
  }
 },
 "nbformat": 4,
 "nbformat_minor": 2
}
